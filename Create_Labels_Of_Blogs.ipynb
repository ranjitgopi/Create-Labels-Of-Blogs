{
 "cells": [
  {
   "cell_type": "markdown",
   "id": "c74f7a48-7601-4df4-8580-46b602234d74",
   "metadata": {},
   "source": [
    "DOMAIN: Digital content management"
   ]
  },
  {
   "cell_type": "markdown",
   "id": "bfb91b50-0f00-425e-988e-9fa90d315763",
   "metadata": {},
   "source": [
    "CONTEXT: Classification is probably the most popular task that you would deal with in real life. Text in the form of blogs, posts, articles, etc.\n",
    "are written every second. It is a challenge to predict the information about the writer without knowing about him/her. We are going to create a\n",
    "classifier that predicts multiple features of the author of a given text. We have designed it as a Multi label classification problem."
   ]
  },
  {
   "cell_type": "markdown",
   "id": "d1f20b65-9e40-4183-b082-8073ad55bb5c",
   "metadata": {},
   "source": [
    "DATA DESCRIPTION: Over 600,000 posts from more than 19 thousand bloggers The Blog Authorship Corpus consists of the collected posts of\n",
    "19,320 bloggers gathered from blogger.com in August 2004. The corpus incorporates a total of 681,288 posts and over 140 million words - or\n",
    "approximately 35 posts and 7250 words per person. Each blog is presented as a separate file, the name of which indicates a blogger id# and\n",
    "the blogger’s self-provided gender, age, industry, and astrological sign. (All are labelled for gender and age but for many, industry and/or sign is\n",
    "marked as unknown.) "
   ]
  },
  {
   "cell_type": "markdown",
   "id": "a95e8f60-fe78-4134-ae68-c6d35de5d009",
   "metadata": {},
   "source": [
    "All bloggers included in the corpus fall into one of three age groups:\n",
    "• 8240 \"10s\" blogs (ages 13-17),\n",
    "• 8086 \"20s\" blogs(ages 23-27) and\n",
    "• 2994 \"30s\" blogs (ages 33-47)"
   ]
  },
  {
   "cell_type": "markdown",
   "id": "3fc08853-2df1-4f8a-be64-f3c448a04d47",
   "metadata": {},
   "source": [
    "• For each age group, there is an equal number of male and female bloggers. Each blog in the corpus includes at least 200 occurrences of\n",
    "common English words. All formatting has been stripped with two exceptions. Individual posts within a single blogger are separated by the\n",
    "date of the following post and links within a post are denoted by the label url link."
   ]
  },
  {
   "cell_type": "markdown",
   "id": "8d221c06-4a1f-4f5b-815d-55f9c18f533a",
   "metadata": {},
   "source": [
    "PROJECT OBJECTIVE: To build a NLP classifier which can use input text parameters to determine the label/s of the blog. Specific to this case\n",
    "study, you can consider the text of the blog: ‘text’ feature as independent variable and ‘topic’ as dependent variable."
   ]
  },
  {
   "cell_type": "code",
   "execution_count": 2,
   "id": "d52fce3c-75cc-4201-b940-b058afa5674e",
   "metadata": {},
   "outputs": [],
   "source": [
    "import pandas as pd\n",
    "\n",
    "df1 = pd.read_csv ('blogtext.csv')"
   ]
  },
  {
   "cell_type": "code",
   "execution_count": 3,
   "id": "01784508",
   "metadata": {},
   "outputs": [
    {
     "name": "stdout",
     "output_type": "stream",
     "text": [
      "The data frame is:\n"
     ]
    },
    {
     "data": {
      "text/html": [
       "<div>\n",
       "<style scoped>\n",
       "    .dataframe tbody tr th:only-of-type {\n",
       "        vertical-align: middle;\n",
       "    }\n",
       "\n",
       "    .dataframe tbody tr th {\n",
       "        vertical-align: top;\n",
       "    }\n",
       "\n",
       "    .dataframe thead th {\n",
       "        text-align: right;\n",
       "    }\n",
       "</style>\n",
       "<table border=\"1\" class=\"dataframe\">\n",
       "  <thead>\n",
       "    <tr style=\"text-align: right;\">\n",
       "      <th></th>\n",
       "      <th>id</th>\n",
       "      <th>gender</th>\n",
       "      <th>age</th>\n",
       "      <th>topic</th>\n",
       "      <th>sign</th>\n",
       "      <th>date</th>\n",
       "      <th>text</th>\n",
       "    </tr>\n",
       "  </thead>\n",
       "  <tbody>\n",
       "    <tr>\n",
       "      <th>0</th>\n",
       "      <td>2059027</td>\n",
       "      <td>male</td>\n",
       "      <td>15</td>\n",
       "      <td>Student</td>\n",
       "      <td>Leo</td>\n",
       "      <td>14,May,2004</td>\n",
       "      <td>Info has been found (+/- 100 pages,...</td>\n",
       "    </tr>\n",
       "    <tr>\n",
       "      <th>1</th>\n",
       "      <td>2059027</td>\n",
       "      <td>male</td>\n",
       "      <td>15</td>\n",
       "      <td>Student</td>\n",
       "      <td>Leo</td>\n",
       "      <td>13,May,2004</td>\n",
       "      <td>These are the team members:   Drewe...</td>\n",
       "    </tr>\n",
       "    <tr>\n",
       "      <th>2</th>\n",
       "      <td>2059027</td>\n",
       "      <td>male</td>\n",
       "      <td>15</td>\n",
       "      <td>Student</td>\n",
       "      <td>Leo</td>\n",
       "      <td>12,May,2004</td>\n",
       "      <td>In het kader van kernfusie op aarde...</td>\n",
       "    </tr>\n",
       "    <tr>\n",
       "      <th>3</th>\n",
       "      <td>2059027</td>\n",
       "      <td>male</td>\n",
       "      <td>15</td>\n",
       "      <td>Student</td>\n",
       "      <td>Leo</td>\n",
       "      <td>12,May,2004</td>\n",
       "      <td>testing!!!  testing!!!</td>\n",
       "    </tr>\n",
       "    <tr>\n",
       "      <th>4</th>\n",
       "      <td>3581210</td>\n",
       "      <td>male</td>\n",
       "      <td>33</td>\n",
       "      <td>InvestmentBanking</td>\n",
       "      <td>Aquarius</td>\n",
       "      <td>11,June,2004</td>\n",
       "      <td>Thanks to Yahoo!'s Toolbar I can ...</td>\n",
       "    </tr>\n",
       "  </tbody>\n",
       "</table>\n",
       "</div>"
      ],
      "text/plain": [
       "        id gender  age              topic      sign          date  \\\n",
       "0  2059027   male   15            Student       Leo   14,May,2004   \n",
       "1  2059027   male   15            Student       Leo   13,May,2004   \n",
       "2  2059027   male   15            Student       Leo   12,May,2004   \n",
       "3  2059027   male   15            Student       Leo   12,May,2004   \n",
       "4  3581210   male   33  InvestmentBanking  Aquarius  11,June,2004   \n",
       "\n",
       "                                                text  \n",
       "0             Info has been found (+/- 100 pages,...  \n",
       "1             These are the team members:   Drewe...  \n",
       "2             In het kader van kernfusie op aarde...  \n",
       "3                   testing!!!  testing!!!            \n",
       "4               Thanks to Yahoo!'s Toolbar I can ...  "
      ]
     },
     "execution_count": 3,
     "metadata": {},
     "output_type": "execute_result"
    }
   ],
   "source": [
    "print('The data frame is:')\n",
    "df1.head()"
   ]
  },
  {
   "cell_type": "code",
   "execution_count": 4,
   "id": "6b699586",
   "metadata": {},
   "outputs": [
    {
     "name": "stdout",
     "output_type": "stream",
     "text": [
      "The number of items in data frame is:\n"
     ]
    },
    {
     "data": {
      "text/plain": [
       "681284"
      ]
     },
     "execution_count": 4,
     "metadata": {},
     "output_type": "execute_result"
    }
   ],
   "source": [
    "print('The number of items in data frame is:')\n",
    "len(df1)"
   ]
  },
  {
   "cell_type": "code",
   "execution_count": 5,
   "id": "412a2c6b",
   "metadata": {},
   "outputs": [
    {
     "name": "stdout",
     "output_type": "stream",
     "text": [
      "Feature-wise percentage of Null values:\n",
      "id        0.0\n",
      "gender    0.0\n",
      "age       0.0\n",
      "topic     0.0\n",
      "sign      0.0\n",
      "date      0.0\n",
      "text      0.0\n",
      "dtype: float64\n",
      "\n"
     ]
    }
   ],
   "source": [
    "print('Feature-wise percentage of Null values:')\n",
    "print(df1.isnull().mean() * 100)\n",
    "print(\"\")"
   ]
  },
  {
   "cell_type": "code",
   "execution_count": 6,
   "id": "affcc2a7",
   "metadata": {},
   "outputs": [],
   "source": [
    "df2=df1.sample(n = 20000)"
   ]
  },
  {
   "cell_type": "code",
   "execution_count": 7,
   "id": "04298777",
   "metadata": {},
   "outputs": [
    {
     "name": "stdout",
     "output_type": "stream",
     "text": [
      "The new data frame is:\n"
     ]
    },
    {
     "data": {
      "text/html": [
       "<div>\n",
       "<style scoped>\n",
       "    .dataframe tbody tr th:only-of-type {\n",
       "        vertical-align: middle;\n",
       "    }\n",
       "\n",
       "    .dataframe tbody tr th {\n",
       "        vertical-align: top;\n",
       "    }\n",
       "\n",
       "    .dataframe thead th {\n",
       "        text-align: right;\n",
       "    }\n",
       "</style>\n",
       "<table border=\"1\" class=\"dataframe\">\n",
       "  <thead>\n",
       "    <tr style=\"text-align: right;\">\n",
       "      <th></th>\n",
       "      <th>id</th>\n",
       "      <th>gender</th>\n",
       "      <th>age</th>\n",
       "      <th>topic</th>\n",
       "      <th>sign</th>\n",
       "      <th>date</th>\n",
       "      <th>text</th>\n",
       "    </tr>\n",
       "  </thead>\n",
       "  <tbody>\n",
       "    <tr>\n",
       "      <th>386553</th>\n",
       "      <td>1308868</td>\n",
       "      <td>male</td>\n",
       "      <td>26</td>\n",
       "      <td>Communications-Media</td>\n",
       "      <td>Cancer</td>\n",
       "      <td>27,August,2003</td>\n",
       "      <td></td>\n",
       "    </tr>\n",
       "    <tr>\n",
       "      <th>511624</th>\n",
       "      <td>3603933</td>\n",
       "      <td>female</td>\n",
       "      <td>23</td>\n",
       "      <td>Education</td>\n",
       "      <td>Virgo</td>\n",
       "      <td>28,July,2004</td>\n",
       "      <td>Spent the day driving up North to Kalev...</td>\n",
       "    </tr>\n",
       "    <tr>\n",
       "      <th>288313</th>\n",
       "      <td>2389810</td>\n",
       "      <td>male</td>\n",
       "      <td>23</td>\n",
       "      <td>Student</td>\n",
       "      <td>Aries</td>\n",
       "      <td>05,June,2004</td>\n",
       "      <td>urlLink    I recently had to open ...</td>\n",
       "    </tr>\n",
       "    <tr>\n",
       "      <th>341473</th>\n",
       "      <td>3566371</td>\n",
       "      <td>male</td>\n",
       "      <td>17</td>\n",
       "      <td>Student</td>\n",
       "      <td>Aquarius</td>\n",
       "      <td>13,July,2004</td>\n",
       "      <td>After thinking long and hard, i dec...</td>\n",
       "    </tr>\n",
       "    <tr>\n",
       "      <th>387107</th>\n",
       "      <td>1774842</td>\n",
       "      <td>female</td>\n",
       "      <td>15</td>\n",
       "      <td>indUnk</td>\n",
       "      <td>Cancer</td>\n",
       "      <td>22,November,2003</td>\n",
       "      <td>my least favorite holiday...the day i a...</td>\n",
       "    </tr>\n",
       "  </tbody>\n",
       "</table>\n",
       "</div>"
      ],
      "text/plain": [
       "             id  gender  age                 topic      sign  \\\n",
       "386553  1308868    male   26  Communications-Media    Cancer   \n",
       "511624  3603933  female   23             Education     Virgo   \n",
       "288313  2389810    male   23               Student     Aries   \n",
       "341473  3566371    male   17               Student  Aquarius   \n",
       "387107  1774842  female   15                indUnk    Cancer   \n",
       "\n",
       "                    date                                               text  \n",
       "386553    27,August,2003                                                     \n",
       "511624      28,July,2004         Spent the day driving up North to Kalev...  \n",
       "288313      05,June,2004              urlLink    I recently had to open ...  \n",
       "341473      13,July,2004             After thinking long and hard, i dec...  \n",
       "387107  22,November,2003         my least favorite holiday...the day i a...  "
      ]
     },
     "execution_count": 7,
     "metadata": {},
     "output_type": "execute_result"
    }
   ],
   "source": [
    "print('The new data frame is:')\n",
    "df2.head()"
   ]
  },
  {
   "cell_type": "code",
   "execution_count": 8,
   "id": "990f27b5",
   "metadata": {},
   "outputs": [
    {
     "name": "stdout",
     "output_type": "stream",
     "text": [
      "The number of items in new data frame is:\n"
     ]
    },
    {
     "data": {
      "text/plain": [
       "20000"
      ]
     },
     "execution_count": 8,
     "metadata": {},
     "output_type": "execute_result"
    }
   ],
   "source": [
    "print('The number of items in new data frame is:')\n",
    "len(df2)"
   ]
  },
  {
   "cell_type": "markdown",
   "id": "84e7e44b-4a0d-4ed2-966f-28648b209665",
   "metadata": {},
   "source": [
    "Eliminate Non-English textual data \n",
    "Hint: Refer ‘langdetect’ library to detect language of the input text)"
   ]
  },
  {
   "cell_type": "code",
   "execution_count": 9,
   "id": "82cff05c-a122-409c-a101-fe991140ad0f",
   "metadata": {},
   "outputs": [],
   "source": [
    "from langdetect import detect\n",
    "\n",
    "def detect_english(text):\n",
    "    \n",
    "    try:\n",
    "        return detect(text) == 'en'\n",
    "    except:\n",
    "        return False"
   ]
  },
  {
   "cell_type": "code",
   "execution_count": 10,
   "id": "6f753d67",
   "metadata": {},
   "outputs": [],
   "source": [
    "df2= df2[df2['text'].apply(detect_english)]"
   ]
  },
  {
   "cell_type": "code",
   "execution_count": 12,
   "id": "2cf1e05b",
   "metadata": {},
   "outputs": [
    {
     "name": "stdout",
     "output_type": "stream",
     "text": [
      "The new data frame is:\n"
     ]
    },
    {
     "data": {
      "text/html": [
       "<div>\n",
       "<style scoped>\n",
       "    .dataframe tbody tr th:only-of-type {\n",
       "        vertical-align: middle;\n",
       "    }\n",
       "\n",
       "    .dataframe tbody tr th {\n",
       "        vertical-align: top;\n",
       "    }\n",
       "\n",
       "    .dataframe thead th {\n",
       "        text-align: right;\n",
       "    }\n",
       "</style>\n",
       "<table border=\"1\" class=\"dataframe\">\n",
       "  <thead>\n",
       "    <tr style=\"text-align: right;\">\n",
       "      <th></th>\n",
       "      <th>id</th>\n",
       "      <th>gender</th>\n",
       "      <th>age</th>\n",
       "      <th>topic</th>\n",
       "      <th>sign</th>\n",
       "      <th>date</th>\n",
       "      <th>text</th>\n",
       "    </tr>\n",
       "  </thead>\n",
       "  <tbody>\n",
       "    <tr>\n",
       "      <th>511624</th>\n",
       "      <td>3603933</td>\n",
       "      <td>female</td>\n",
       "      <td>23</td>\n",
       "      <td>Education</td>\n",
       "      <td>Virgo</td>\n",
       "      <td>28,July,2004</td>\n",
       "      <td>Spent the day driving up North to Kalev...</td>\n",
       "    </tr>\n",
       "    <tr>\n",
       "      <th>288313</th>\n",
       "      <td>2389810</td>\n",
       "      <td>male</td>\n",
       "      <td>23</td>\n",
       "      <td>Student</td>\n",
       "      <td>Aries</td>\n",
       "      <td>05,June,2004</td>\n",
       "      <td>urlLink    I recently had to open ...</td>\n",
       "    </tr>\n",
       "    <tr>\n",
       "      <th>341473</th>\n",
       "      <td>3566371</td>\n",
       "      <td>male</td>\n",
       "      <td>17</td>\n",
       "      <td>Student</td>\n",
       "      <td>Aquarius</td>\n",
       "      <td>13,July,2004</td>\n",
       "      <td>After thinking long and hard, i dec...</td>\n",
       "    </tr>\n",
       "    <tr>\n",
       "      <th>387107</th>\n",
       "      <td>1774842</td>\n",
       "      <td>female</td>\n",
       "      <td>15</td>\n",
       "      <td>indUnk</td>\n",
       "      <td>Cancer</td>\n",
       "      <td>22,November,2003</td>\n",
       "      <td>my least favorite holiday...the day i a...</td>\n",
       "    </tr>\n",
       "    <tr>\n",
       "      <th>591067</th>\n",
       "      <td>3375531</td>\n",
       "      <td>male</td>\n",
       "      <td>26</td>\n",
       "      <td>Communications-Media</td>\n",
       "      <td>Aquarius</td>\n",
       "      <td>18,May,2004</td>\n",
       "      <td>urlLink Who Is Abu Zarqawi? : 'Za...</td>\n",
       "    </tr>\n",
       "  </tbody>\n",
       "</table>\n",
       "</div>"
      ],
      "text/plain": [
       "             id  gender  age                 topic      sign  \\\n",
       "511624  3603933  female   23             Education     Virgo   \n",
       "288313  2389810    male   23               Student     Aries   \n",
       "341473  3566371    male   17               Student  Aquarius   \n",
       "387107  1774842  female   15                indUnk    Cancer   \n",
       "591067  3375531    male   26  Communications-Media  Aquarius   \n",
       "\n",
       "                    date                                               text  \n",
       "511624      28,July,2004         Spent the day driving up North to Kalev...  \n",
       "288313      05,June,2004              urlLink    I recently had to open ...  \n",
       "341473      13,July,2004             After thinking long and hard, i dec...  \n",
       "387107  22,November,2003         my least favorite holiday...the day i a...  \n",
       "591067       18,May,2004               urlLink Who Is Abu Zarqawi? : 'Za...  "
      ]
     },
     "execution_count": 12,
     "metadata": {},
     "output_type": "execute_result"
    }
   ],
   "source": [
    "print('The new data frame is:')\n",
    "df2.head()"
   ]
  },
  {
   "cell_type": "markdown",
   "id": "8df33680",
   "metadata": {},
   "source": [
    "Eliminate All special Characters and Numbers "
   ]
  },
  {
   "cell_type": "code",
   "execution_count": 13,
   "id": "2ef22604",
   "metadata": {},
   "outputs": [],
   "source": [
    "def remove_special_characters(dataframe,columnname):\n",
    "    dataframe_no_special_characters = dataframe[columnname].replace(r'[^A-Za-z0-9 ]+', '', regex=True)\n",
    "    return dataframe_no_special_characters\n",
    "\n",
    "df2['text'] = remove_special_characters(df2,'text')"
   ]
  },
  {
   "cell_type": "code",
   "execution_count": 14,
   "id": "35719234",
   "metadata": {},
   "outputs": [
    {
     "name": "stdout",
     "output_type": "stream",
     "text": [
      "The new data frame is:\n"
     ]
    },
    {
     "data": {
      "text/html": [
       "<div>\n",
       "<style scoped>\n",
       "    .dataframe tbody tr th:only-of-type {\n",
       "        vertical-align: middle;\n",
       "    }\n",
       "\n",
       "    .dataframe tbody tr th {\n",
       "        vertical-align: top;\n",
       "    }\n",
       "\n",
       "    .dataframe thead th {\n",
       "        text-align: right;\n",
       "    }\n",
       "</style>\n",
       "<table border=\"1\" class=\"dataframe\">\n",
       "  <thead>\n",
       "    <tr style=\"text-align: right;\">\n",
       "      <th></th>\n",
       "      <th>id</th>\n",
       "      <th>gender</th>\n",
       "      <th>age</th>\n",
       "      <th>topic</th>\n",
       "      <th>sign</th>\n",
       "      <th>date</th>\n",
       "      <th>text</th>\n",
       "    </tr>\n",
       "  </thead>\n",
       "  <tbody>\n",
       "    <tr>\n",
       "      <th>511624</th>\n",
       "      <td>3603933</td>\n",
       "      <td>female</td>\n",
       "      <td>23</td>\n",
       "      <td>Education</td>\n",
       "      <td>Virgo</td>\n",
       "      <td>28,July,2004</td>\n",
       "      <td>Spent the day driving up North to Kalev...</td>\n",
       "    </tr>\n",
       "    <tr>\n",
       "      <th>288313</th>\n",
       "      <td>2389810</td>\n",
       "      <td>male</td>\n",
       "      <td>23</td>\n",
       "      <td>Student</td>\n",
       "      <td>Aries</td>\n",
       "      <td>05,June,2004</td>\n",
       "      <td>urlLink    I recently had to open ...</td>\n",
       "    </tr>\n",
       "    <tr>\n",
       "      <th>341473</th>\n",
       "      <td>3566371</td>\n",
       "      <td>male</td>\n",
       "      <td>17</td>\n",
       "      <td>Student</td>\n",
       "      <td>Aquarius</td>\n",
       "      <td>13,July,2004</td>\n",
       "      <td>After thinking long and hard i deci...</td>\n",
       "    </tr>\n",
       "    <tr>\n",
       "      <th>387107</th>\n",
       "      <td>1774842</td>\n",
       "      <td>female</td>\n",
       "      <td>15</td>\n",
       "      <td>indUnk</td>\n",
       "      <td>Cancer</td>\n",
       "      <td>22,November,2003</td>\n",
       "      <td>my least favorite holidaythe day i am f...</td>\n",
       "    </tr>\n",
       "    <tr>\n",
       "      <th>591067</th>\n",
       "      <td>3375531</td>\n",
       "      <td>male</td>\n",
       "      <td>26</td>\n",
       "      <td>Communications-Media</td>\n",
       "      <td>Aquarius</td>\n",
       "      <td>18,May,2004</td>\n",
       "      <td>urlLink Who Is Abu Zarqawi  Zarqa...</td>\n",
       "    </tr>\n",
       "  </tbody>\n",
       "</table>\n",
       "</div>"
      ],
      "text/plain": [
       "             id  gender  age                 topic      sign  \\\n",
       "511624  3603933  female   23             Education     Virgo   \n",
       "288313  2389810    male   23               Student     Aries   \n",
       "341473  3566371    male   17               Student  Aquarius   \n",
       "387107  1774842  female   15                indUnk    Cancer   \n",
       "591067  3375531    male   26  Communications-Media  Aquarius   \n",
       "\n",
       "                    date                                               text  \n",
       "511624      28,July,2004         Spent the day driving up North to Kalev...  \n",
       "288313      05,June,2004              urlLink    I recently had to open ...  \n",
       "341473      13,July,2004             After thinking long and hard i deci...  \n",
       "387107  22,November,2003         my least favorite holidaythe day i am f...  \n",
       "591067       18,May,2004               urlLink Who Is Abu Zarqawi  Zarqa...  "
      ]
     },
     "execution_count": 14,
     "metadata": {},
     "output_type": "execute_result"
    }
   ],
   "source": [
    "print('The new data frame is:')\n",
    "df2.head()"
   ]
  },
  {
   "cell_type": "markdown",
   "id": "8353b42f",
   "metadata": {},
   "source": [
    "Lowercase all textual data "
   ]
  },
  {
   "cell_type": "code",
   "execution_count": 15,
   "id": "c79a4e08",
   "metadata": {},
   "outputs": [],
   "source": [
    "def lowercase(dataframe,columnname):\n",
    "    lowercase_dataframe = dataframe[columnname].apply(lambda x: x.lower())\n",
    "    return lowercase_dataframe\n",
    "\n",
    "df2['text'] = lowercase(df2,'text')"
   ]
  },
  {
   "cell_type": "code",
   "execution_count": 16,
   "id": "eda71608",
   "metadata": {},
   "outputs": [
    {
     "name": "stdout",
     "output_type": "stream",
     "text": [
      "The new data frame is:\n"
     ]
    },
    {
     "data": {
      "text/html": [
       "<div>\n",
       "<style scoped>\n",
       "    .dataframe tbody tr th:only-of-type {\n",
       "        vertical-align: middle;\n",
       "    }\n",
       "\n",
       "    .dataframe tbody tr th {\n",
       "        vertical-align: top;\n",
       "    }\n",
       "\n",
       "    .dataframe thead th {\n",
       "        text-align: right;\n",
       "    }\n",
       "</style>\n",
       "<table border=\"1\" class=\"dataframe\">\n",
       "  <thead>\n",
       "    <tr style=\"text-align: right;\">\n",
       "      <th></th>\n",
       "      <th>id</th>\n",
       "      <th>gender</th>\n",
       "      <th>age</th>\n",
       "      <th>topic</th>\n",
       "      <th>sign</th>\n",
       "      <th>date</th>\n",
       "      <th>text</th>\n",
       "    </tr>\n",
       "  </thead>\n",
       "  <tbody>\n",
       "    <tr>\n",
       "      <th>511624</th>\n",
       "      <td>3603933</td>\n",
       "      <td>female</td>\n",
       "      <td>23</td>\n",
       "      <td>Education</td>\n",
       "      <td>Virgo</td>\n",
       "      <td>28,July,2004</td>\n",
       "      <td>spent the day driving up north to kalev...</td>\n",
       "    </tr>\n",
       "    <tr>\n",
       "      <th>288313</th>\n",
       "      <td>2389810</td>\n",
       "      <td>male</td>\n",
       "      <td>23</td>\n",
       "      <td>Student</td>\n",
       "      <td>Aries</td>\n",
       "      <td>05,June,2004</td>\n",
       "      <td>urllink    i recently had to open ...</td>\n",
       "    </tr>\n",
       "    <tr>\n",
       "      <th>341473</th>\n",
       "      <td>3566371</td>\n",
       "      <td>male</td>\n",
       "      <td>17</td>\n",
       "      <td>Student</td>\n",
       "      <td>Aquarius</td>\n",
       "      <td>13,July,2004</td>\n",
       "      <td>after thinking long and hard i deci...</td>\n",
       "    </tr>\n",
       "    <tr>\n",
       "      <th>387107</th>\n",
       "      <td>1774842</td>\n",
       "      <td>female</td>\n",
       "      <td>15</td>\n",
       "      <td>indUnk</td>\n",
       "      <td>Cancer</td>\n",
       "      <td>22,November,2003</td>\n",
       "      <td>my least favorite holidaythe day i am f...</td>\n",
       "    </tr>\n",
       "    <tr>\n",
       "      <th>591067</th>\n",
       "      <td>3375531</td>\n",
       "      <td>male</td>\n",
       "      <td>26</td>\n",
       "      <td>Communications-Media</td>\n",
       "      <td>Aquarius</td>\n",
       "      <td>18,May,2004</td>\n",
       "      <td>urllink who is abu zarqawi  zarqa...</td>\n",
       "    </tr>\n",
       "  </tbody>\n",
       "</table>\n",
       "</div>"
      ],
      "text/plain": [
       "             id  gender  age                 topic      sign  \\\n",
       "511624  3603933  female   23             Education     Virgo   \n",
       "288313  2389810    male   23               Student     Aries   \n",
       "341473  3566371    male   17               Student  Aquarius   \n",
       "387107  1774842  female   15                indUnk    Cancer   \n",
       "591067  3375531    male   26  Communications-Media  Aquarius   \n",
       "\n",
       "                    date                                               text  \n",
       "511624      28,July,2004         spent the day driving up north to kalev...  \n",
       "288313      05,June,2004              urllink    i recently had to open ...  \n",
       "341473      13,July,2004             after thinking long and hard i deci...  \n",
       "387107  22,November,2003         my least favorite holidaythe day i am f...  \n",
       "591067       18,May,2004               urllink who is abu zarqawi  zarqa...  "
      ]
     },
     "execution_count": 16,
     "metadata": {},
     "output_type": "execute_result"
    }
   ],
   "source": [
    "print('The new data frame is:')\n",
    "df2.head()"
   ]
  },
  {
   "cell_type": "markdown",
   "id": "32a4032c",
   "metadata": {},
   "source": [
    "Remove all Stopwords  "
   ]
  },
  {
   "cell_type": "code",
   "execution_count": 17,
   "id": "a68a2f1e",
   "metadata": {},
   "outputs": [],
   "source": [
    "from nltk.tokenize import word_tokenize\n",
    "\n",
    "def tokenize_words(dataframe,columnname):\n",
    "    dataframe_tokenized_texts= dataframe[columnname].apply(lambda x: word_tokenize(x) )\n",
    "    \n",
    "    return dataframe_tokenized_texts\n",
    "\n",
    "df2['text'] = tokenize_words(df2,'text')"
   ]
  },
  {
   "cell_type": "code",
   "execution_count": 18,
   "id": "fa93bf43",
   "metadata": {},
   "outputs": [
    {
     "name": "stdout",
     "output_type": "stream",
     "text": [
      "The new data frame is:\n"
     ]
    },
    {
     "data": {
      "text/html": [
       "<div>\n",
       "<style scoped>\n",
       "    .dataframe tbody tr th:only-of-type {\n",
       "        vertical-align: middle;\n",
       "    }\n",
       "\n",
       "    .dataframe tbody tr th {\n",
       "        vertical-align: top;\n",
       "    }\n",
       "\n",
       "    .dataframe thead th {\n",
       "        text-align: right;\n",
       "    }\n",
       "</style>\n",
       "<table border=\"1\" class=\"dataframe\">\n",
       "  <thead>\n",
       "    <tr style=\"text-align: right;\">\n",
       "      <th></th>\n",
       "      <th>id</th>\n",
       "      <th>gender</th>\n",
       "      <th>age</th>\n",
       "      <th>topic</th>\n",
       "      <th>sign</th>\n",
       "      <th>date</th>\n",
       "      <th>text</th>\n",
       "    </tr>\n",
       "  </thead>\n",
       "  <tbody>\n",
       "    <tr>\n",
       "      <th>511624</th>\n",
       "      <td>3603933</td>\n",
       "      <td>female</td>\n",
       "      <td>23</td>\n",
       "      <td>Education</td>\n",
       "      <td>Virgo</td>\n",
       "      <td>28,July,2004</td>\n",
       "      <td>[spent, the, day, driving, up, north, to, kale...</td>\n",
       "    </tr>\n",
       "    <tr>\n",
       "      <th>288313</th>\n",
       "      <td>2389810</td>\n",
       "      <td>male</td>\n",
       "      <td>23</td>\n",
       "      <td>Student</td>\n",
       "      <td>Aries</td>\n",
       "      <td>05,June,2004</td>\n",
       "      <td>[urllink, i, recently, had, to, open, up, the,...</td>\n",
       "    </tr>\n",
       "    <tr>\n",
       "      <th>341473</th>\n",
       "      <td>3566371</td>\n",
       "      <td>male</td>\n",
       "      <td>17</td>\n",
       "      <td>Student</td>\n",
       "      <td>Aquarius</td>\n",
       "      <td>13,July,2004</td>\n",
       "      <td>[after, thinking, long, and, hard, i, decided,...</td>\n",
       "    </tr>\n",
       "    <tr>\n",
       "      <th>387107</th>\n",
       "      <td>1774842</td>\n",
       "      <td>female</td>\n",
       "      <td>15</td>\n",
       "      <td>indUnk</td>\n",
       "      <td>Cancer</td>\n",
       "      <td>22,November,2003</td>\n",
       "      <td>[my, least, favorite, holidaythe, day, i, am, ...</td>\n",
       "    </tr>\n",
       "    <tr>\n",
       "      <th>591067</th>\n",
       "      <td>3375531</td>\n",
       "      <td>male</td>\n",
       "      <td>26</td>\n",
       "      <td>Communications-Media</td>\n",
       "      <td>Aquarius</td>\n",
       "      <td>18,May,2004</td>\n",
       "      <td>[urllink, who, is, abu, zarqawi, zarqawi, has,...</td>\n",
       "    </tr>\n",
       "  </tbody>\n",
       "</table>\n",
       "</div>"
      ],
      "text/plain": [
       "             id  gender  age                 topic      sign  \\\n",
       "511624  3603933  female   23             Education     Virgo   \n",
       "288313  2389810    male   23               Student     Aries   \n",
       "341473  3566371    male   17               Student  Aquarius   \n",
       "387107  1774842  female   15                indUnk    Cancer   \n",
       "591067  3375531    male   26  Communications-Media  Aquarius   \n",
       "\n",
       "                    date                                               text  \n",
       "511624      28,July,2004  [spent, the, day, driving, up, north, to, kale...  \n",
       "288313      05,June,2004  [urllink, i, recently, had, to, open, up, the,...  \n",
       "341473      13,July,2004  [after, thinking, long, and, hard, i, decided,...  \n",
       "387107  22,November,2003  [my, least, favorite, holidaythe, day, i, am, ...  \n",
       "591067       18,May,2004  [urllink, who, is, abu, zarqawi, zarqawi, has,...  "
      ]
     },
     "execution_count": 18,
     "metadata": {},
     "output_type": "execute_result"
    }
   ],
   "source": [
    "print('The new data frame is:')\n",
    "df2.head()"
   ]
  },
  {
   "cell_type": "code",
   "execution_count": 19,
   "id": "04ce2b12",
   "metadata": {},
   "outputs": [],
   "source": [
    "from nltk.corpus import stopwords\n",
    "\n",
    "def remove_stop_words(dataframe,columnname):\n",
    "    stop = stopwords.words('english')\n",
    "    dataframe_no_stop_words= dataframe[columnname].apply(lambda x: [item for item in x if item not in stop])\n",
    "    \n",
    "    return dataframe_no_stop_words\n",
    "\n",
    "df2['text'] = remove_stop_words(df2,'text')"
   ]
  },
  {
   "cell_type": "code",
   "execution_count": 21,
   "id": "2a3ce62b",
   "metadata": {},
   "outputs": [
    {
     "name": "stdout",
     "output_type": "stream",
     "text": [
      "The new data frame is:\n"
     ]
    },
    {
     "data": {
      "text/html": [
       "<div>\n",
       "<style scoped>\n",
       "    .dataframe tbody tr th:only-of-type {\n",
       "        vertical-align: middle;\n",
       "    }\n",
       "\n",
       "    .dataframe tbody tr th {\n",
       "        vertical-align: top;\n",
       "    }\n",
       "\n",
       "    .dataframe thead th {\n",
       "        text-align: right;\n",
       "    }\n",
       "</style>\n",
       "<table border=\"1\" class=\"dataframe\">\n",
       "  <thead>\n",
       "    <tr style=\"text-align: right;\">\n",
       "      <th></th>\n",
       "      <th>id</th>\n",
       "      <th>gender</th>\n",
       "      <th>age</th>\n",
       "      <th>topic</th>\n",
       "      <th>sign</th>\n",
       "      <th>date</th>\n",
       "      <th>text</th>\n",
       "    </tr>\n",
       "  </thead>\n",
       "  <tbody>\n",
       "    <tr>\n",
       "      <th>511624</th>\n",
       "      <td>3603933</td>\n",
       "      <td>female</td>\n",
       "      <td>23</td>\n",
       "      <td>Education</td>\n",
       "      <td>Virgo</td>\n",
       "      <td>28,July,2004</td>\n",
       "      <td>[spent, day, driving, north, kaleva, kara, bac...</td>\n",
       "    </tr>\n",
       "    <tr>\n",
       "      <th>288313</th>\n",
       "      <td>2389810</td>\n",
       "      <td>male</td>\n",
       "      <td>23</td>\n",
       "      <td>Student</td>\n",
       "      <td>Aries</td>\n",
       "      <td>05,June,2004</td>\n",
       "      <td>[urllink, recently, open, ol, beast, sgi, work...</td>\n",
       "    </tr>\n",
       "    <tr>\n",
       "      <th>341473</th>\n",
       "      <td>3566371</td>\n",
       "      <td>male</td>\n",
       "      <td>17</td>\n",
       "      <td>Student</td>\n",
       "      <td>Aquarius</td>\n",
       "      <td>13,July,2004</td>\n",
       "      <td>[thinking, long, hard, decided, go, school, pa...</td>\n",
       "    </tr>\n",
       "    <tr>\n",
       "      <th>387107</th>\n",
       "      <td>1774842</td>\n",
       "      <td>female</td>\n",
       "      <td>15</td>\n",
       "      <td>indUnk</td>\n",
       "      <td>Cancer</td>\n",
       "      <td>22,November,2003</td>\n",
       "      <td>[least, favorite, holidaythe, day, forced, eat...</td>\n",
       "    </tr>\n",
       "    <tr>\n",
       "      <th>591067</th>\n",
       "      <td>3375531</td>\n",
       "      <td>male</td>\n",
       "      <td>26</td>\n",
       "      <td>Communications-Media</td>\n",
       "      <td>Aquarius</td>\n",
       "      <td>18,May,2004</td>\n",
       "      <td>[urllink, abu, zarqawi, zarqawi, associated, g...</td>\n",
       "    </tr>\n",
       "  </tbody>\n",
       "</table>\n",
       "</div>"
      ],
      "text/plain": [
       "             id  gender  age                 topic      sign  \\\n",
       "511624  3603933  female   23             Education     Virgo   \n",
       "288313  2389810    male   23               Student     Aries   \n",
       "341473  3566371    male   17               Student  Aquarius   \n",
       "387107  1774842  female   15                indUnk    Cancer   \n",
       "591067  3375531    male   26  Communications-Media  Aquarius   \n",
       "\n",
       "                    date                                               text  \n",
       "511624      28,July,2004  [spent, day, driving, north, kaleva, kara, bac...  \n",
       "288313      05,June,2004  [urllink, recently, open, ol, beast, sgi, work...  \n",
       "341473      13,July,2004  [thinking, long, hard, decided, go, school, pa...  \n",
       "387107  22,November,2003  [least, favorite, holidaythe, day, forced, eat...  \n",
       "591067       18,May,2004  [urllink, abu, zarqawi, zarqawi, associated, g...  "
      ]
     },
     "execution_count": 21,
     "metadata": {},
     "output_type": "execute_result"
    }
   ],
   "source": [
    "print('The new data frame is:')\n",
    "df2.head()"
   ]
  },
  {
   "cell_type": "code",
   "execution_count": 22,
   "id": "2b270a06",
   "metadata": {},
   "outputs": [],
   "source": [
    "def join_sentence(dataframe,columnname):\n",
    "\n",
    "    dataframe_joined_sentence= dataframe[columnname].apply(lambda x: (\" \").join(x))    \n",
    "    return dataframe_joined_sentence\n",
    "\n",
    "df2['text'] = join_sentence(df2,'text')"
   ]
  },
  {
   "cell_type": "code",
   "execution_count": 23,
   "id": "6a753e01",
   "metadata": {},
   "outputs": [
    {
     "name": "stdout",
     "output_type": "stream",
     "text": [
      "The new data frame is:\n"
     ]
    },
    {
     "data": {
      "text/html": [
       "<div>\n",
       "<style scoped>\n",
       "    .dataframe tbody tr th:only-of-type {\n",
       "        vertical-align: middle;\n",
       "    }\n",
       "\n",
       "    .dataframe tbody tr th {\n",
       "        vertical-align: top;\n",
       "    }\n",
       "\n",
       "    .dataframe thead th {\n",
       "        text-align: right;\n",
       "    }\n",
       "</style>\n",
       "<table border=\"1\" class=\"dataframe\">\n",
       "  <thead>\n",
       "    <tr style=\"text-align: right;\">\n",
       "      <th></th>\n",
       "      <th>id</th>\n",
       "      <th>gender</th>\n",
       "      <th>age</th>\n",
       "      <th>topic</th>\n",
       "      <th>sign</th>\n",
       "      <th>date</th>\n",
       "      <th>text</th>\n",
       "    </tr>\n",
       "  </thead>\n",
       "  <tbody>\n",
       "    <tr>\n",
       "      <th>511624</th>\n",
       "      <td>3603933</td>\n",
       "      <td>female</td>\n",
       "      <td>23</td>\n",
       "      <td>Education</td>\n",
       "      <td>Virgo</td>\n",
       "      <td>28,July,2004</td>\n",
       "      <td>spent day driving north kaleva kara back lansi...</td>\n",
       "    </tr>\n",
       "    <tr>\n",
       "      <th>288313</th>\n",
       "      <td>2389810</td>\n",
       "      <td>male</td>\n",
       "      <td>23</td>\n",
       "      <td>Student</td>\n",
       "      <td>Aries</td>\n",
       "      <td>05,June,2004</td>\n",
       "      <td>urllink recently open ol beast sgi workstation...</td>\n",
       "    </tr>\n",
       "    <tr>\n",
       "      <th>341473</th>\n",
       "      <td>3566371</td>\n",
       "      <td>male</td>\n",
       "      <td>17</td>\n",
       "      <td>Student</td>\n",
       "      <td>Aquarius</td>\n",
       "      <td>13,July,2004</td>\n",
       "      <td>thinking long hard decided go school party hap...</td>\n",
       "    </tr>\n",
       "    <tr>\n",
       "      <th>387107</th>\n",
       "      <td>1774842</td>\n",
       "      <td>female</td>\n",
       "      <td>15</td>\n",
       "      <td>indUnk</td>\n",
       "      <td>Cancer</td>\n",
       "      <td>22,November,2003</td>\n",
       "      <td>least favorite holidaythe day forced eat bird ...</td>\n",
       "    </tr>\n",
       "    <tr>\n",
       "      <th>591067</th>\n",
       "      <td>3375531</td>\n",
       "      <td>male</td>\n",
       "      <td>26</td>\n",
       "      <td>Communications-Media</td>\n",
       "      <td>Aquarius</td>\n",
       "      <td>18,May,2004</td>\n",
       "      <td>urllink abu zarqawi zarqawi associated groups ...</td>\n",
       "    </tr>\n",
       "  </tbody>\n",
       "</table>\n",
       "</div>"
      ],
      "text/plain": [
       "             id  gender  age                 topic      sign  \\\n",
       "511624  3603933  female   23             Education     Virgo   \n",
       "288313  2389810    male   23               Student     Aries   \n",
       "341473  3566371    male   17               Student  Aquarius   \n",
       "387107  1774842  female   15                indUnk    Cancer   \n",
       "591067  3375531    male   26  Communications-Media  Aquarius   \n",
       "\n",
       "                    date                                               text  \n",
       "511624      28,July,2004  spent day driving north kaleva kara back lansi...  \n",
       "288313      05,June,2004  urllink recently open ol beast sgi workstation...  \n",
       "341473      13,July,2004  thinking long hard decided go school party hap...  \n",
       "387107  22,November,2003  least favorite holidaythe day forced eat bird ...  \n",
       "591067       18,May,2004  urllink abu zarqawi zarqawi associated groups ...  "
      ]
     },
     "execution_count": 23,
     "metadata": {},
     "output_type": "execute_result"
    }
   ],
   "source": [
    "print('The new data frame is:')\n",
    "df2.head()"
   ]
  },
  {
   "cell_type": "markdown",
   "id": "2b8b0d27",
   "metadata": {},
   "source": [
    "Remove all extra white spaces"
   ]
  },
  {
   "cell_type": "code",
   "execution_count": 1,
   "id": "d3b941a4",
   "metadata": {},
   "outputs": [
    {
     "name": "stdout",
     "output_type": "stream",
     "text": [
      "Already performed\n"
     ]
    }
   ],
   "source": [
    "print(\"Already performed\")"
   ]
  },
  {
   "cell_type": "markdown",
   "id": "e538c88b",
   "metadata": {},
   "source": [
    "Build a base Classification model  "
   ]
  },
  {
   "cell_type": "markdown",
   "id": "4364ffe5",
   "metadata": {},
   "source": [
    "Create dependent and independent variables  "
   ]
  },
  {
   "cell_type": "code",
   "execution_count": 25,
   "id": "2e53d19d",
   "metadata": {},
   "outputs": [
    {
     "name": "stdout",
     "output_type": "stream",
     "text": [
      "The independant data frame is:\n"
     ]
    },
    {
     "data": {
      "text/plain": [
       "511624    spent day driving north kaleva kara back lansi...\n",
       "288313    urllink recently open ol beast sgi workstation...\n",
       "341473    thinking long hard decided go school party hap...\n",
       "387107    least favorite holidaythe day forced eat bird ...\n",
       "591067    urllink abu zarqawi zarqawi associated groups ...\n",
       "Name: text, dtype: object"
      ]
     },
     "execution_count": 25,
     "metadata": {},
     "output_type": "execute_result"
    }
   ],
   "source": [
    "X = df2[\"text\"]\n",
    "\n",
    "print('The independant data frame is:')\n",
    "X.head()"
   ]
  },
  {
   "cell_type": "code",
   "execution_count": 26,
   "id": "5856c480",
   "metadata": {},
   "outputs": [
    {
     "name": "stdout",
     "output_type": "stream",
     "text": [
      "The dependant/target data frame is:\n"
     ]
    },
    {
     "data": {
      "text/plain": [
       "511624               Education\n",
       "288313                 Student\n",
       "341473                 Student\n",
       "387107                  indUnk\n",
       "591067    Communications-Media\n",
       "Name: topic, dtype: object"
      ]
     },
     "execution_count": 26,
     "metadata": {},
     "output_type": "execute_result"
    }
   ],
   "source": [
    "y= df2[\"topic\"]\n",
    "\n",
    "print('The dependant/target data frame is:')\n",
    "y.head()"
   ]
  },
  {
   "cell_type": "code",
   "execution_count": 27,
   "id": "4aab7d24",
   "metadata": {},
   "outputs": [
    {
     "name": "stdout",
     "output_type": "stream",
     "text": [
      "Count of topics:\n"
     ]
    },
    {
     "data": {
      "text/plain": [
       "indUnk                     7163\n",
       "Student                    4227\n",
       "Technology                 1191\n",
       "Arts                        903\n",
       "Education                   847\n",
       "Communications-Media        544\n",
       "Non-Profit                  408\n",
       "Internet                    400\n",
       "Engineering                 311\n",
       "Law                         241\n",
       "Publishing                  220\n",
       "Science                     211\n",
       "Government                  194\n",
       "Consulting                  169\n",
       "Advertising                 151\n",
       "Religion                    151\n",
       "Marketing                   138\n",
       "BusinessServices            130\n",
       "Fashion                     129\n",
       "Accounting                  112\n",
       "Banking                     102\n",
       "Telecommunications          101\n",
       "Military                    101\n",
       "Museums-Libraries            97\n",
       "Chemicals                    95\n",
       "HumanResources               92\n",
       "RealEstate                   83\n",
       "Sports-Recreation            79\n",
       "Transportation               76\n",
       "Tourism                      71\n",
       "Biotech                      55\n",
       "Manufacturing                54\n",
       "LawEnforcement-Security      50\n",
       "Architecture                 41\n",
       "Agriculture                  39\n",
       "InvestmentBanking            39\n",
       "Construction                 30\n",
       "Automotive                   29\n",
       "Environment                  18\n",
       "Maritime                      5\n",
       "Name: topic, dtype: int64"
      ]
     },
     "execution_count": 27,
     "metadata": {},
     "output_type": "execute_result"
    }
   ],
   "source": [
    "print(\"Count of topics:\")\n",
    "y.value_counts()"
   ]
  },
  {
   "cell_type": "markdown",
   "id": "6884e524",
   "metadata": {},
   "source": [
    "Split data into train and test "
   ]
  },
  {
   "cell_type": "code",
   "execution_count": 28,
   "id": "405a02ff",
   "metadata": {},
   "outputs": [
    {
     "name": "stdout",
     "output_type": "stream",
     "text": [
      "80.00% data is in training set\n",
      "20.00% data is in test set\n"
     ]
    }
   ],
   "source": [
    "from sklearn.model_selection import train_test_split\n",
    "X_train, X_test,y_train, y_test = train_test_split(X, y, test_size=0.20, random_state=1)\n",
    "\n",
    "print(\"{0:0.2f}% data is in training set\".format((len(X_train)/len(df2.index)) * 100))\n",
    "print(\"{0:0.2f}% data is in test set\".format((len(X_test)/len(df2.index)) * 100))"
   ]
  },
  {
   "cell_type": "code",
   "execution_count": 29,
   "id": "848c9e90",
   "metadata": {},
   "outputs": [
    {
     "name": "stdout",
     "output_type": "stream",
     "text": [
      "Number of items in X train:\n",
      "15277\n",
      "Shape of X train:\n",
      "(15277,)\n",
      "Number of items in X test:\n",
      "3820\n",
      "Shape of X test:\n",
      "(3820,)\n"
     ]
    }
   ],
   "source": [
    "print('Number of items in X train:')\n",
    "print(len(X_train))\n",
    "print(\"Shape of X train:\")\n",
    "print(X_train.shape)\n",
    "print('Number of items in X test:')\n",
    "print(len(X_test))\n",
    "print(\"Shape of X test:\")\n",
    "print(X_test.shape)"
   ]
  },
  {
   "cell_type": "markdown",
   "id": "f4e995fd",
   "metadata": {},
   "source": [
    "Vectorize data using any one vectorizer "
   ]
  },
  {
   "cell_type": "code",
   "execution_count": 30,
   "id": "9f19b905",
   "metadata": {},
   "outputs": [],
   "source": [
    "from sklearn.feature_extraction.text import CountVectorizer\n",
    "from sklearn.feature_extraction.text import TfidfTransformer\n",
    "from sklearn.naive_bayes import MultinomialNB"
   ]
  },
  {
   "cell_type": "code",
   "execution_count": 31,
   "id": "2f857d1f",
   "metadata": {},
   "outputs": [],
   "source": [
    "from sklearn.pipeline import Pipeline\n",
    "nb_text_clf = Pipeline([('vect', CountVectorizer()),('tfidf', TfidfTransformer()),('clf', MultinomialNB()),])"
   ]
  },
  {
   "cell_type": "markdown",
   "id": "3761db4e",
   "metadata": {},
   "source": [
    "Build a base model for Supervised Learning - Classification "
   ]
  },
  {
   "cell_type": "code",
   "execution_count": 32,
   "id": "a315a410",
   "metadata": {},
   "outputs": [],
   "source": [
    "model = nb_text_clf.fit(X_train, y_train)"
   ]
  },
  {
   "cell_type": "code",
   "execution_count": 33,
   "id": "5b8ca565",
   "metadata": {},
   "outputs": [],
   "source": [
    "predicted_labels = model.predict(X_test)"
   ]
  },
  {
   "cell_type": "code",
   "execution_count": 34,
   "id": "7205366e",
   "metadata": {},
   "outputs": [
    {
     "name": "stdout",
     "output_type": "stream",
     "text": [
      "Accuracy of Model of Naive Bayes Classifier Model: 0.381151832460733\n"
     ]
    }
   ],
   "source": [
    "print('Accuracy of Model of Naive Bayes Classifier Model:', model.score(X_test, y_test))"
   ]
  },
  {
   "cell_type": "markdown",
   "id": "16263b5d",
   "metadata": {},
   "source": [
    "Clearly print Performance Metrics "
   ]
  },
  {
   "cell_type": "code",
   "execution_count": 35,
   "id": "7d5a0ff6",
   "metadata": {},
   "outputs": [
    {
     "name": "stdout",
     "output_type": "stream",
     "text": [
      "\n",
      "Classification Report\n",
      "\n",
      "                         precision    recall  f1-score   support\n",
      "\n",
      "             Accounting       0.00      0.00      0.00        19\n",
      "            Advertising       0.00      0.00      0.00        30\n",
      "            Agriculture       0.00      0.00      0.00         9\n",
      "           Architecture       0.00      0.00      0.00        11\n",
      "                   Arts       0.00      0.00      0.00       176\n",
      "             Automotive       0.00      0.00      0.00         6\n",
      "                Banking       0.00      0.00      0.00        21\n",
      "                Biotech       0.00      0.00      0.00        10\n",
      "       BusinessServices       0.00      0.00      0.00        17\n",
      "              Chemicals       0.00      0.00      0.00        15\n",
      "   Communications-Media       0.00      0.00      0.00       112\n",
      "           Construction       0.00      0.00      0.00         4\n",
      "             Consulting       0.00      0.00      0.00        34\n",
      "              Education       0.00      0.00      0.00       158\n",
      "            Engineering       0.00      0.00      0.00        54\n",
      "            Environment       0.00      0.00      0.00         2\n",
      "                Fashion       0.00      0.00      0.00        28\n",
      "             Government       0.00      0.00      0.00        23\n",
      "         HumanResources       0.00      0.00      0.00        25\n",
      "               Internet       0.00      0.00      0.00        83\n",
      "      InvestmentBanking       0.00      0.00      0.00         6\n",
      "                    Law       0.00      0.00      0.00        50\n",
      "LawEnforcement-Security       0.00      0.00      0.00         8\n",
      "          Manufacturing       0.00      0.00      0.00        15\n",
      "              Marketing       0.00      0.00      0.00        28\n",
      "               Military       0.00      0.00      0.00        15\n",
      "      Museums-Libraries       0.00      0.00      0.00        18\n",
      "             Non-Profit       0.00      0.00      0.00        89\n",
      "             Publishing       0.00      0.00      0.00        45\n",
      "             RealEstate       0.00      0.00      0.00        13\n",
      "               Religion       0.00      0.00      0.00        28\n",
      "                Science       0.00      0.00      0.00        53\n",
      "      Sports-Recreation       0.00      0.00      0.00        17\n",
      "                Student       0.44      0.00      0.01       868\n",
      "             Technology       0.00      0.00      0.00       232\n",
      "     Telecommunications       0.00      0.00      0.00        13\n",
      "                Tourism       0.00      0.00      0.00        13\n",
      "         Transportation       0.00      0.00      0.00        15\n",
      "                 indUnk       0.38      1.00      0.55      1457\n",
      "\n",
      "               accuracy                           0.38      3820\n",
      "              macro avg       0.02      0.03      0.01      3820\n",
      "           weighted avg       0.25      0.38      0.21      3820\n",
      "\n"
     ]
    },
    {
     "name": "stderr",
     "output_type": "stream",
     "text": [
      "C:\\Users\\rgi4\\Anaconda3\\lib\\site-packages\\sklearn\\metrics\\_classification.py:1245: UndefinedMetricWarning: Precision and F-score are ill-defined and being set to 0.0 in labels with no predicted samples. Use `zero_division` parameter to control this behavior.\n",
      "  _warn_prf(average, modifier, msg_start, len(result))\n",
      "C:\\Users\\rgi4\\Anaconda3\\lib\\site-packages\\sklearn\\metrics\\_classification.py:1245: UndefinedMetricWarning: Precision and F-score are ill-defined and being set to 0.0 in labels with no predicted samples. Use `zero_division` parameter to control this behavior.\n",
      "  _warn_prf(average, modifier, msg_start, len(result))\n",
      "C:\\Users\\rgi4\\Anaconda3\\lib\\site-packages\\sklearn\\metrics\\_classification.py:1245: UndefinedMetricWarning: Precision and F-score are ill-defined and being set to 0.0 in labels with no predicted samples. Use `zero_division` parameter to control this behavior.\n",
      "  _warn_prf(average, modifier, msg_start, len(result))\n"
     ]
    }
   ],
   "source": [
    "from sklearn.metrics import classification_report\n",
    "print('\\nClassification Report\\n')\n",
    "print(classification_report(y_test, predicted_labels))"
   ]
  },
  {
   "cell_type": "code",
   "execution_count": 36,
   "id": "42b0b63a",
   "metadata": {},
   "outputs": [
    {
     "name": "stdout",
     "output_type": "stream",
     "text": [
      "Best parameters for model:\n"
     ]
    },
    {
     "data": {
      "text/plain": [
       "{'clf__alpha': 0.01, 'tfidf__use_idf': False, 'vect__ngram_range': (1, 1)}"
      ]
     },
     "execution_count": 36,
     "metadata": {},
     "output_type": "execute_result"
    }
   ],
   "source": [
    "from sklearn.model_selection import GridSearchCV\n",
    "parameters = {'vect__ngram_range': [(1, 1), (1, 2)],'tfidf__use_idf': (True, False),'clf__alpha': (1e-2, 1e-3),}\n",
    "\n",
    "nb_gs_clf = GridSearchCV(nb_text_clf, parameters, n_jobs=-1)\n",
    "model = nb_gs_clf.fit(X_train, y_train)\n",
    "\n",
    "print(\"Best parameters for model:\")\n",
    "model.best_score_\n",
    "model.best_params_"
   ]
  },
  {
   "cell_type": "code",
   "execution_count": 37,
   "id": "148267ca",
   "metadata": {},
   "outputs": [
    {
     "name": "stdout",
     "output_type": "stream",
     "text": [
      "Now we will use best parameters for model\n",
      "Accuracy of Model of Naive Bayes Classifier Model with best parameters: 0.40078534031413615\n"
     ]
    }
   ],
   "source": [
    "print(\"Now we will use best parameters for model\")\n",
    "parameters = {'vect__ngram_range': [(1, 1)],'tfidf__use_idf': [False],'clf__alpha': [0.01]}\n",
    "\n",
    "nb_best_clf = GridSearchCV(nb_text_clf, parameters, n_jobs=-1)\n",
    "model = nb_best_clf.fit(X_train, y_train)\n",
    "predicted_labels = model.predict(X_test)\n",
    "print('Accuracy of Model of Naive Bayes Classifier Model with best parameters:', model.score(X_test, y_test))"
   ]
  },
  {
   "cell_type": "code",
   "execution_count": 38,
   "id": "d3d8d22b",
   "metadata": {},
   "outputs": [
    {
     "name": "stdout",
     "output_type": "stream",
     "text": [
      "\n",
      "Classification Report\n",
      "\n",
      "                         precision    recall  f1-score   support\n",
      "\n",
      "             Accounting       0.00      0.00      0.00        19\n",
      "            Advertising       0.00      0.00      0.00        30\n",
      "            Agriculture       0.00      0.00      0.00         9\n",
      "           Architecture       0.00      0.00      0.00        11\n",
      "                   Arts       0.33      0.01      0.01       176\n",
      "             Automotive       0.00      0.00      0.00         6\n",
      "                Banking       0.00      0.00      0.00        21\n",
      "                Biotech       0.00      0.00      0.00        10\n",
      "       BusinessServices       0.00      0.00      0.00        17\n",
      "              Chemicals       0.00      0.00      0.00        15\n",
      "   Communications-Media       1.00      0.01      0.02       112\n",
      "           Construction       0.00      0.00      0.00         4\n",
      "             Consulting       0.00      0.00      0.00        34\n",
      "              Education       0.67      0.03      0.05       158\n",
      "            Engineering       1.00      0.02      0.04        54\n",
      "            Environment       0.00      0.00      0.00         2\n",
      "                Fashion       0.00      0.00      0.00        28\n",
      "             Government       0.00      0.00      0.00        23\n",
      "         HumanResources       0.00      0.00      0.00        25\n",
      "               Internet       1.00      0.01      0.02        83\n",
      "      InvestmentBanking       0.00      0.00      0.00         6\n",
      "                    Law       0.00      0.00      0.00        50\n",
      "LawEnforcement-Security       0.00      0.00      0.00         8\n",
      "          Manufacturing       0.00      0.00      0.00        15\n",
      "              Marketing       0.00      0.00      0.00        28\n",
      "               Military       0.00      0.00      0.00        15\n",
      "      Museums-Libraries       0.00      0.00      0.00        18\n",
      "             Non-Profit       0.33      0.01      0.02        89\n",
      "             Publishing       0.00      0.00      0.00        45\n",
      "             RealEstate       0.00      0.00      0.00        13\n",
      "               Religion       0.00      0.00      0.00        28\n",
      "                Science       0.00      0.00      0.00        53\n",
      "      Sports-Recreation       0.00      0.00      0.00        17\n",
      "                Student       0.45      0.26      0.33       868\n",
      "             Technology       0.29      0.04      0.07       232\n",
      "     Telecommunications       0.00      0.00      0.00        13\n",
      "                Tourism       0.00      0.00      0.00        13\n",
      "         Transportation       1.00      0.07      0.12        15\n",
      "                 indUnk       0.39      0.88      0.54      1457\n",
      "\n",
      "               accuracy                           0.40      3820\n",
      "              macro avg       0.17      0.03      0.03      3820\n",
      "           weighted avg       0.39      0.40      0.29      3820\n",
      "\n"
     ]
    },
    {
     "name": "stderr",
     "output_type": "stream",
     "text": [
      "C:\\Users\\rgi4\\Anaconda3\\lib\\site-packages\\sklearn\\metrics\\_classification.py:1245: UndefinedMetricWarning: Precision and F-score are ill-defined and being set to 0.0 in labels with no predicted samples. Use `zero_division` parameter to control this behavior.\n",
      "  _warn_prf(average, modifier, msg_start, len(result))\n",
      "C:\\Users\\rgi4\\Anaconda3\\lib\\site-packages\\sklearn\\metrics\\_classification.py:1245: UndefinedMetricWarning: Precision and F-score are ill-defined and being set to 0.0 in labels with no predicted samples. Use `zero_division` parameter to control this behavior.\n",
      "  _warn_prf(average, modifier, msg_start, len(result))\n",
      "C:\\Users\\rgi4\\Anaconda3\\lib\\site-packages\\sklearn\\metrics\\_classification.py:1245: UndefinedMetricWarning: Precision and F-score are ill-defined and being set to 0.0 in labels with no predicted samples. Use `zero_division` parameter to control this behavior.\n",
      "  _warn_prf(average, modifier, msg_start, len(result))\n"
     ]
    }
   ],
   "source": [
    "print('\\nClassification Report\\n')\n",
    "print(classification_report(y_test, predicted_labels))"
   ]
  },
  {
   "cell_type": "markdown",
   "id": "d1fc4b62",
   "metadata": {},
   "source": [
    "Improve Performance of model "
   ]
  },
  {
   "cell_type": "markdown",
   "id": "fc08c030",
   "metadata": {},
   "source": [
    "Experiment with other vectorisers "
   ]
  },
  {
   "cell_type": "markdown",
   "id": "68cd46b5",
   "metadata": {},
   "source": [
    "Build classifier Models using other algorithms than base model "
   ]
  },
  {
   "cell_type": "code",
   "execution_count": 40,
   "id": "dacb61ad",
   "metadata": {},
   "outputs": [],
   "source": [
    "from sklearn.linear_model import SGDClassifier\n",
    "text_clf_svm = Pipeline([('vect', CountVectorizer()),('tfidf', TfidfTransformer()),('clf-svm', SGDClassifier(loss='hinge', penalty='l2',alpha=1e-3, random_state=42)),])"
   ]
  },
  {
   "cell_type": "code",
   "execution_count": 41,
   "id": "8502d03c",
   "metadata": {},
   "outputs": [],
   "source": [
    "model = text_clf_svm.fit(X_train, y_train)"
   ]
  },
  {
   "cell_type": "code",
   "execution_count": 42,
   "id": "4211411a",
   "metadata": {},
   "outputs": [],
   "source": [
    "predicted_labels = model.predict(X_test)"
   ]
  },
  {
   "cell_type": "code",
   "execution_count": 43,
   "id": "9387c267",
   "metadata": {},
   "outputs": [
    {
     "name": "stdout",
     "output_type": "stream",
     "text": [
      "Accuracy of Model with Stochastic Gradient Descent Classifier Model: 0.3575916230366492\n"
     ]
    }
   ],
   "source": [
    "print('Accuracy of Model with Stochastic Gradient Descent Classifier Model:', model.score(X_test, y_test))"
   ]
  },
  {
   "cell_type": "code",
   "execution_count": 44,
   "id": "5bb42297",
   "metadata": {},
   "outputs": [
    {
     "name": "stdout",
     "output_type": "stream",
     "text": [
      "\n",
      "Classification Report\n",
      "\n",
      "                         precision    recall  f1-score   support\n",
      "\n",
      "             Accounting       0.50      0.11      0.17        19\n",
      "            Advertising       0.00      0.00      0.00        30\n",
      "            Agriculture       0.00      0.00      0.00         9\n",
      "           Architecture       0.00      0.00      0.00        11\n",
      "                   Arts       0.10      0.03      0.05       176\n",
      "             Automotive       0.00      0.00      0.00         6\n",
      "                Banking       0.00      0.00      0.00        21\n",
      "                Biotech       0.00      0.00      0.00        10\n",
      "       BusinessServices       0.14      0.06      0.08        17\n",
      "              Chemicals       0.00      0.00      0.00        15\n",
      "   Communications-Media       0.19      0.05      0.08       112\n",
      "           Construction       0.00      0.00      0.00         4\n",
      "             Consulting       0.00      0.00      0.00        34\n",
      "              Education       0.18      0.08      0.11       158\n",
      "            Engineering       0.15      0.04      0.06        54\n",
      "            Environment       0.00      0.00      0.00         2\n",
      "                Fashion       1.00      0.07      0.13        28\n",
      "             Government       0.18      0.09      0.12        23\n",
      "         HumanResources       0.00      0.00      0.00        25\n",
      "               Internet       0.27      0.10      0.14        83\n",
      "      InvestmentBanking       0.00      0.00      0.00         6\n",
      "                    Law       0.00      0.00      0.00        50\n",
      "LawEnforcement-Security       0.00      0.00      0.00         8\n",
      "          Manufacturing       0.00      0.00      0.00        15\n",
      "              Marketing       0.00      0.00      0.00        28\n",
      "               Military       0.00      0.00      0.00        15\n",
      "      Museums-Libraries       0.20      0.06      0.09        18\n",
      "             Non-Profit       0.09      0.01      0.02        89\n",
      "             Publishing       0.14      0.02      0.04        45\n",
      "             RealEstate       0.00      0.00      0.00        13\n",
      "               Religion       0.00      0.00      0.00        28\n",
      "                Science       0.00      0.00      0.00        53\n",
      "      Sports-Recreation       0.00      0.00      0.00        17\n",
      "                Student       0.35      0.39      0.37       868\n",
      "             Technology       0.17      0.09      0.12       232\n",
      "     Telecommunications       0.00      0.00      0.00        13\n",
      "                Tourism       0.00      0.00      0.00        13\n",
      "         Transportation       0.33      0.07      0.11        15\n",
      "                 indUnk       0.40      0.66      0.50      1457\n",
      "\n",
      "               accuracy                           0.36      3820\n",
      "              macro avg       0.11      0.05      0.06      3820\n",
      "           weighted avg       0.29      0.36      0.30      3820\n",
      "\n"
     ]
    },
    {
     "name": "stderr",
     "output_type": "stream",
     "text": [
      "C:\\Users\\rgi4\\Anaconda3\\lib\\site-packages\\sklearn\\metrics\\_classification.py:1245: UndefinedMetricWarning: Precision and F-score are ill-defined and being set to 0.0 in labels with no predicted samples. Use `zero_division` parameter to control this behavior.\n",
      "  _warn_prf(average, modifier, msg_start, len(result))\n",
      "C:\\Users\\rgi4\\Anaconda3\\lib\\site-packages\\sklearn\\metrics\\_classification.py:1245: UndefinedMetricWarning: Precision and F-score are ill-defined and being set to 0.0 in labels with no predicted samples. Use `zero_division` parameter to control this behavior.\n",
      "  _warn_prf(average, modifier, msg_start, len(result))\n",
      "C:\\Users\\rgi4\\Anaconda3\\lib\\site-packages\\sklearn\\metrics\\_classification.py:1245: UndefinedMetricWarning: Precision and F-score are ill-defined and being set to 0.0 in labels with no predicted samples. Use `zero_division` parameter to control this behavior.\n",
      "  _warn_prf(average, modifier, msg_start, len(result))\n"
     ]
    }
   ],
   "source": [
    "from sklearn.metrics import classification_report\n",
    "print('\\nClassification Report\\n')\n",
    "print(classification_report(y_test, predicted_labels))"
   ]
  },
  {
   "cell_type": "markdown",
   "id": "b014390e",
   "metadata": {},
   "source": [
    "Tune Parameters/Hyperparameters of the model/s "
   ]
  },
  {
   "cell_type": "code",
   "execution_count": 45,
   "id": "202e4f3c",
   "metadata": {},
   "outputs": [
    {
     "name": "stdout",
     "output_type": "stream",
     "text": [
      "Best parameters for model\n"
     ]
    },
    {
     "data": {
      "text/plain": [
       "{'clf-svm__alpha': 0.001, 'tfidf__use_idf': True, 'vect__ngram_range': (1, 2)}"
      ]
     },
     "execution_count": 45,
     "metadata": {},
     "output_type": "execute_result"
    }
   ],
   "source": [
    "from sklearn.model_selection import GridSearchCV\n",
    "parameters = {'vect__ngram_range': [(1, 1), (1, 2)],'tfidf__use_idf': (True, False),'clf-svm__alpha': (1e-2, 1e-3),}\n",
    "\n",
    "gs_clf_svm = GridSearchCV(text_clf_svm, parameters, n_jobs=-1)\n",
    "model = gs_clf_svm.fit(X_train, y_train)\n",
    "\n",
    "print(\"Best parameters for model\")\n",
    "model.best_score_\n",
    "model.best_params_"
   ]
  },
  {
   "cell_type": "code",
   "execution_count": 46,
   "id": "22fb828f",
   "metadata": {},
   "outputs": [
    {
     "name": "stdout",
     "output_type": "stream",
     "text": [
      "Now we will use best parameters for model\n",
      "Accuracy of Model of Stochastic Gradient Descent Classifier Model with best parameters: 0.38821989528795814\n"
     ]
    }
   ],
   "source": [
    "print(\"Now we will use best parameters for model\")\n",
    "parameters = {'vect__ngram_range': [(1, 2)],'tfidf__use_idf': [True],'clf-svm__alpha': [1e-3],}\n",
    "\n",
    "svm_best_clf = GridSearchCV(text_clf_svm, parameters, n_jobs=-1)\n",
    "model = svm_best_clf.fit(X_train, y_train)\n",
    "predicted_labels = model.predict(X_test)\n",
    "print('Accuracy of Model of Stochastic Gradient Descent Classifier Model with best parameters:', model.score(X_test, y_test))"
   ]
  },
  {
   "cell_type": "code",
   "execution_count": 47,
   "id": "a76d0dc5",
   "metadata": {},
   "outputs": [
    {
     "name": "stdout",
     "output_type": "stream",
     "text": [
      "\n",
      "Classification Report\n",
      "\n",
      "                         precision    recall  f1-score   support\n",
      "\n",
      "             Accounting       0.00      0.00      0.00        19\n",
      "            Advertising       0.00      0.00      0.00        30\n",
      "            Agriculture       0.00      0.00      0.00         9\n",
      "           Architecture       0.00      0.00      0.00        11\n",
      "                   Arts       0.12      0.01      0.02       176\n",
      "             Automotive       0.00      0.00      0.00         6\n",
      "                Banking       0.00      0.00      0.00        21\n",
      "                Biotech       0.00      0.00      0.00        10\n",
      "       BusinessServices       0.25      0.06      0.10        17\n",
      "              Chemicals       0.00      0.00      0.00        15\n",
      "   Communications-Media       0.50      0.05      0.10       112\n",
      "           Construction       0.00      0.00      0.00         4\n",
      "             Consulting       0.00      0.00      0.00        34\n",
      "              Education       0.59      0.06      0.11       158\n",
      "            Engineering       0.50      0.04      0.07        54\n",
      "            Environment       0.00      0.00      0.00         2\n",
      "                Fashion       1.00      0.04      0.07        28\n",
      "             Government       0.50      0.04      0.08        23\n",
      "         HumanResources       0.00      0.00      0.00        25\n",
      "               Internet       0.33      0.02      0.04        83\n",
      "      InvestmentBanking       0.00      0.00      0.00         6\n",
      "                    Law       0.00      0.00      0.00        50\n",
      "LawEnforcement-Security       0.00      0.00      0.00         8\n",
      "          Manufacturing       0.00      0.00      0.00        15\n",
      "              Marketing       0.00      0.00      0.00        28\n",
      "               Military       0.00      0.00      0.00        15\n",
      "      Museums-Libraries       0.00      0.00      0.00        18\n",
      "             Non-Profit       0.17      0.01      0.02        89\n",
      "             Publishing       0.00      0.00      0.00        45\n",
      "             RealEstate       0.00      0.00      0.00        13\n",
      "               Religion       0.00      0.00      0.00        28\n",
      "                Science       0.00      0.00      0.00        53\n",
      "      Sports-Recreation       0.00      0.00      0.00        17\n",
      "                Student       0.37      0.43      0.40       868\n",
      "             Technology       0.18      0.05      0.08       232\n",
      "     Telecommunications       0.00      0.00      0.00        13\n",
      "                Tourism       0.00      0.00      0.00        13\n",
      "         Transportation       1.00      0.07      0.12        15\n",
      "                 indUnk       0.40      0.74      0.52      1457\n",
      "\n",
      "               accuracy                           0.39      3820\n",
      "              macro avg       0.15      0.04      0.04      3820\n",
      "           weighted avg       0.33      0.39      0.31      3820\n",
      "\n"
     ]
    },
    {
     "name": "stderr",
     "output_type": "stream",
     "text": [
      "C:\\Users\\rgi4\\Anaconda3\\lib\\site-packages\\sklearn\\metrics\\_classification.py:1245: UndefinedMetricWarning: Precision and F-score are ill-defined and being set to 0.0 in labels with no predicted samples. Use `zero_division` parameter to control this behavior.\n",
      "  _warn_prf(average, modifier, msg_start, len(result))\n",
      "C:\\Users\\rgi4\\Anaconda3\\lib\\site-packages\\sklearn\\metrics\\_classification.py:1245: UndefinedMetricWarning: Precision and F-score are ill-defined and being set to 0.0 in labels with no predicted samples. Use `zero_division` parameter to control this behavior.\n",
      "  _warn_prf(average, modifier, msg_start, len(result))\n",
      "C:\\Users\\rgi4\\Anaconda3\\lib\\site-packages\\sklearn\\metrics\\_classification.py:1245: UndefinedMetricWarning: Precision and F-score are ill-defined and being set to 0.0 in labels with no predicted samples. Use `zero_division` parameter to control this behavior.\n",
      "  _warn_prf(average, modifier, msg_start, len(result))\n"
     ]
    }
   ],
   "source": [
    "from sklearn.metrics import classification_report\n",
    "print('\\nClassification Report\\n')\n",
    "print(classification_report(y_test, predicted_labels))"
   ]
  },
  {
   "cell_type": "code",
   "execution_count": 48,
   "id": "2dea3526",
   "metadata": {},
   "outputs": [
    {
     "name": "stdout",
     "output_type": "stream",
     "text": [
      "Now we will try with more advanced vectorizers\n"
     ]
    }
   ],
   "source": [
    "print(\"Now we will try with more advanced vectorizers\")\n",
    "\n",
    "from gensim.models.doc2vec import Doc2Vec, TaggedDocument\n",
    "#tokenize and tag the card text\n",
    "card_docs = [TaggedDocument(doc.split(' '), [i]) for i, doc in enumerate(df2.text)]"
   ]
  },
  {
   "cell_type": "code",
   "execution_count": 49,
   "id": "dee20da9",
   "metadata": {},
   "outputs": [],
   "source": [
    "#instantiate model\n",
    "model = Doc2Vec(vector_size=64, window=2, min_count=1, workers=8, epochs = 40)\n",
    "#build vocab\n",
    "model.build_vocab(card_docs)\n",
    "#train model\n",
    "model.train(card_docs, total_examples=model.corpus_count, epochs=model.epochs)"
   ]
  },
  {
   "cell_type": "code",
   "execution_count": 50,
   "id": "d4adad1f",
   "metadata": {},
   "outputs": [],
   "source": [
    "#Convert df2['text'] to array\n",
    "df2_text_array = df2[\"text\"].to_numpy()\n",
    "#generate vectors\n",
    "card2vec = [model.infer_vector((df2_text_array[i].split(' '))) for i in range(0,len(df2_text_array))]"
   ]
  },
  {
   "cell_type": "code",
   "execution_count": 64,
   "id": "80ddff03",
   "metadata": {},
   "outputs": [],
   "source": [
    "columns=[]\n",
    "for i in range(0,len(card2vec[0])):\n",
    "    columns.append('Column'+str(i))"
   ]
  },
  {
   "cell_type": "code",
   "execution_count": 65,
   "id": "a7c9457e",
   "metadata": {},
   "outputs": [
    {
     "data": {
      "text/html": [
       "<div>\n",
       "<style scoped>\n",
       "    .dataframe tbody tr th:only-of-type {\n",
       "        vertical-align: middle;\n",
       "    }\n",
       "\n",
       "    .dataframe tbody tr th {\n",
       "        vertical-align: top;\n",
       "    }\n",
       "\n",
       "    .dataframe thead th {\n",
       "        text-align: right;\n",
       "    }\n",
       "</style>\n",
       "<table border=\"1\" class=\"dataframe\">\n",
       "  <thead>\n",
       "    <tr style=\"text-align: right;\">\n",
       "      <th></th>\n",
       "      <th>Column0</th>\n",
       "      <th>Column1</th>\n",
       "      <th>Column2</th>\n",
       "      <th>Column3</th>\n",
       "      <th>Column4</th>\n",
       "      <th>Column5</th>\n",
       "      <th>Column6</th>\n",
       "      <th>Column7</th>\n",
       "      <th>Column8</th>\n",
       "      <th>Column9</th>\n",
       "      <th>...</th>\n",
       "      <th>Column54</th>\n",
       "      <th>Column55</th>\n",
       "      <th>Column56</th>\n",
       "      <th>Column57</th>\n",
       "      <th>Column58</th>\n",
       "      <th>Column59</th>\n",
       "      <th>Column60</th>\n",
       "      <th>Column61</th>\n",
       "      <th>Column62</th>\n",
       "      <th>Column63</th>\n",
       "    </tr>\n",
       "  </thead>\n",
       "  <tbody>\n",
       "    <tr>\n",
       "      <th>0</th>\n",
       "      <td>1.671392</td>\n",
       "      <td>-1.068388</td>\n",
       "      <td>-0.191523</td>\n",
       "      <td>0.711884</td>\n",
       "      <td>-0.301856</td>\n",
       "      <td>-2.081101</td>\n",
       "      <td>-0.322949</td>\n",
       "      <td>1.298869</td>\n",
       "      <td>-1.333727</td>\n",
       "      <td>-0.450850</td>\n",
       "      <td>...</td>\n",
       "      <td>1.157164</td>\n",
       "      <td>1.354626</td>\n",
       "      <td>0.733016</td>\n",
       "      <td>1.020380</td>\n",
       "      <td>1.679475</td>\n",
       "      <td>-0.413759</td>\n",
       "      <td>-0.498818</td>\n",
       "      <td>0.051744</td>\n",
       "      <td>0.125808</td>\n",
       "      <td>1.678232</td>\n",
       "    </tr>\n",
       "    <tr>\n",
       "      <th>1</th>\n",
       "      <td>1.038524</td>\n",
       "      <td>0.484189</td>\n",
       "      <td>0.815457</td>\n",
       "      <td>0.238990</td>\n",
       "      <td>-0.645635</td>\n",
       "      <td>-0.220878</td>\n",
       "      <td>0.266301</td>\n",
       "      <td>-0.756432</td>\n",
       "      <td>-0.693493</td>\n",
       "      <td>-0.647644</td>\n",
       "      <td>...</td>\n",
       "      <td>0.495461</td>\n",
       "      <td>-1.112361</td>\n",
       "      <td>-0.418613</td>\n",
       "      <td>-0.586357</td>\n",
       "      <td>-0.057856</td>\n",
       "      <td>0.252528</td>\n",
       "      <td>-1.285814</td>\n",
       "      <td>-0.843275</td>\n",
       "      <td>0.381820</td>\n",
       "      <td>0.349914</td>\n",
       "    </tr>\n",
       "    <tr>\n",
       "      <th>2</th>\n",
       "      <td>-0.469482</td>\n",
       "      <td>-0.777407</td>\n",
       "      <td>0.256851</td>\n",
       "      <td>1.019218</td>\n",
       "      <td>-0.188985</td>\n",
       "      <td>-0.489693</td>\n",
       "      <td>-0.231226</td>\n",
       "      <td>-0.173393</td>\n",
       "      <td>0.292314</td>\n",
       "      <td>-0.070949</td>\n",
       "      <td>...</td>\n",
       "      <td>0.147816</td>\n",
       "      <td>0.039171</td>\n",
       "      <td>0.126307</td>\n",
       "      <td>-0.606989</td>\n",
       "      <td>-0.002127</td>\n",
       "      <td>-0.359383</td>\n",
       "      <td>-0.877908</td>\n",
       "      <td>-0.302257</td>\n",
       "      <td>-0.037587</td>\n",
       "      <td>0.445923</td>\n",
       "    </tr>\n",
       "    <tr>\n",
       "      <th>3</th>\n",
       "      <td>-0.034772</td>\n",
       "      <td>0.350986</td>\n",
       "      <td>-0.738007</td>\n",
       "      <td>0.135469</td>\n",
       "      <td>0.333906</td>\n",
       "      <td>-0.337914</td>\n",
       "      <td>-0.027656</td>\n",
       "      <td>0.420688</td>\n",
       "      <td>-0.468603</td>\n",
       "      <td>0.690540</td>\n",
       "      <td>...</td>\n",
       "      <td>0.098034</td>\n",
       "      <td>-0.171656</td>\n",
       "      <td>0.097934</td>\n",
       "      <td>-0.314903</td>\n",
       "      <td>-0.365639</td>\n",
       "      <td>0.169617</td>\n",
       "      <td>-0.876888</td>\n",
       "      <td>-0.302395</td>\n",
       "      <td>0.043974</td>\n",
       "      <td>0.553041</td>\n",
       "    </tr>\n",
       "    <tr>\n",
       "      <th>4</th>\n",
       "      <td>-0.125319</td>\n",
       "      <td>-0.110321</td>\n",
       "      <td>-0.208806</td>\n",
       "      <td>0.945860</td>\n",
       "      <td>-0.254838</td>\n",
       "      <td>1.469597</td>\n",
       "      <td>-1.759404</td>\n",
       "      <td>-1.947370</td>\n",
       "      <td>0.582735</td>\n",
       "      <td>-0.306625</td>\n",
       "      <td>...</td>\n",
       "      <td>-1.379077</td>\n",
       "      <td>-1.712678</td>\n",
       "      <td>-0.430529</td>\n",
       "      <td>-1.015618</td>\n",
       "      <td>-1.860881</td>\n",
       "      <td>-0.588598</td>\n",
       "      <td>-1.217528</td>\n",
       "      <td>0.056236</td>\n",
       "      <td>0.501394</td>\n",
       "      <td>-0.425858</td>\n",
       "    </tr>\n",
       "  </tbody>\n",
       "</table>\n",
       "<p>5 rows × 64 columns</p>\n",
       "</div>"
      ],
      "text/plain": [
       "    Column0   Column1   Column2   Column3   Column4   Column5   Column6  \\\n",
       "0  1.671392 -1.068388 -0.191523  0.711884 -0.301856 -2.081101 -0.322949   \n",
       "1  1.038524  0.484189  0.815457  0.238990 -0.645635 -0.220878  0.266301   \n",
       "2 -0.469482 -0.777407  0.256851  1.019218 -0.188985 -0.489693 -0.231226   \n",
       "3 -0.034772  0.350986 -0.738007  0.135469  0.333906 -0.337914 -0.027656   \n",
       "4 -0.125319 -0.110321 -0.208806  0.945860 -0.254838  1.469597 -1.759404   \n",
       "\n",
       "    Column7   Column8   Column9  ...  Column54  Column55  Column56  Column57  \\\n",
       "0  1.298869 -1.333727 -0.450850  ...  1.157164  1.354626  0.733016  1.020380   \n",
       "1 -0.756432 -0.693493 -0.647644  ...  0.495461 -1.112361 -0.418613 -0.586357   \n",
       "2 -0.173393  0.292314 -0.070949  ...  0.147816  0.039171  0.126307 -0.606989   \n",
       "3  0.420688 -0.468603  0.690540  ...  0.098034 -0.171656  0.097934 -0.314903   \n",
       "4 -1.947370  0.582735 -0.306625  ... -1.379077 -1.712678 -0.430529 -1.015618   \n",
       "\n",
       "   Column58  Column59  Column60  Column61  Column62  Column63  \n",
       "0  1.679475 -0.413759 -0.498818  0.051744  0.125808  1.678232  \n",
       "1 -0.057856  0.252528 -1.285814 -0.843275  0.381820  0.349914  \n",
       "2 -0.002127 -0.359383 -0.877908 -0.302257 -0.037587  0.445923  \n",
       "3 -0.365639  0.169617 -0.876888 -0.302395  0.043974  0.553041  \n",
       "4 -1.860881 -0.588598 -1.217528  0.056236  0.501394 -0.425858  \n",
       "\n",
       "[5 rows x 64 columns]"
      ]
     },
     "execution_count": 65,
     "metadata": {},
     "output_type": "execute_result"
    }
   ],
   "source": [
    "X= pd.DataFrame(card2vec, columns = columns)\n",
    "X.head()"
   ]
  },
  {
   "cell_type": "code",
   "execution_count": 66,
   "id": "f97aaac9",
   "metadata": {},
   "outputs": [
    {
     "data": {
      "text/plain": [
       "511624               Education\n",
       "288313                 Student\n",
       "341473                 Student\n",
       "387107                  indUnk\n",
       "591067    Communications-Media\n",
       "Name: topic, dtype: object"
      ]
     },
     "execution_count": 66,
     "metadata": {},
     "output_type": "execute_result"
    }
   ],
   "source": [
    "y= df2[\"topic\"]\n",
    "y.head()"
   ]
  },
  {
   "cell_type": "code",
   "execution_count": 67,
   "id": "3514cfe2",
   "metadata": {},
   "outputs": [
    {
     "name": "stdout",
     "output_type": "stream",
     "text": [
      "80.00% data is in training set\n",
      "20.00% data is in test set\n"
     ]
    }
   ],
   "source": [
    "from sklearn.model_selection import train_test_split\n",
    "X_train, X_test,y_train, y_test = train_test_split(X, y, test_size=0.20, random_state=1)\n",
    "\n",
    "print(\"{0:0.2f}% data is in training set\".format((len(X_train)/len(df2.index)) * 100))\n",
    "print(\"{0:0.2f}% data is in test set\".format((len(X_test)/len(df2.index)) * 100))"
   ]
  },
  {
   "cell_type": "code",
   "execution_count": 68,
   "id": "56b87c32",
   "metadata": {},
   "outputs": [],
   "source": [
    "from sklearn.linear_model import SGDClassifier\n",
    "text_clf_svm = Pipeline([('clf-svm', SGDClassifier(loss='hinge', penalty='l2',alpha=1e-3, random_state=42)),])\n",
    "\n",
    "model = text_clf_svm.fit(X_train, y_train)"
   ]
  },
  {
   "cell_type": "code",
   "execution_count": 69,
   "id": "8399637b",
   "metadata": {},
   "outputs": [
    {
     "name": "stdout",
     "output_type": "stream",
     "text": [
      "Accuracy of Model with card2vec vectorizer and Stochastic Gradient Descent Classifier Model: 0.26675392670157066\n"
     ]
    }
   ],
   "source": [
    "print('Accuracy of Model with card2vec vectorizer and Stochastic Gradient Descent Classifier Model:', model.score(X_test, y_test))"
   ]
  },
  {
   "cell_type": "code",
   "execution_count": 70,
   "id": "17d35cd4",
   "metadata": {},
   "outputs": [],
   "source": [
    "predicted_labels = model.predict(X_test)"
   ]
  },
  {
   "cell_type": "code",
   "execution_count": 71,
   "id": "a7d8122d",
   "metadata": {},
   "outputs": [
    {
     "name": "stdout",
     "output_type": "stream",
     "text": [
      "\n",
      "Classification Report\n",
      "\n",
      "                         precision    recall  f1-score   support\n",
      "\n",
      "             Accounting       0.00      0.00      0.00        19\n",
      "            Advertising       0.00      0.00      0.00        30\n",
      "            Agriculture       0.00      0.00      0.00         9\n",
      "           Architecture       0.00      0.00      0.00        11\n",
      "                   Arts       0.06      0.01      0.02       176\n",
      "             Automotive       0.00      0.00      0.00         6\n",
      "                Banking       0.00      0.00      0.00        21\n",
      "                Biotech       0.00      0.00      0.00        10\n",
      "       BusinessServices       0.00      0.00      0.00        17\n",
      "              Chemicals       0.00      0.00      0.00        15\n",
      "   Communications-Media       0.02      0.01      0.01       112\n",
      "           Construction       0.00      0.00      0.00         4\n",
      "             Consulting       0.00      0.00      0.00        34\n",
      "              Education       0.04      0.11      0.06       158\n",
      "            Engineering       0.00      0.00      0.00        54\n",
      "            Environment       0.00      0.00      0.00         2\n",
      "                Fashion       0.00      0.00      0.00        28\n",
      "             Government       0.01      0.04      0.02        23\n",
      "         HumanResources       0.00      0.00      0.00        25\n",
      "               Internet       0.00      0.00      0.00        83\n",
      "      InvestmentBanking       0.00      0.00      0.00         6\n",
      "                    Law       0.03      0.02      0.02        50\n",
      "LawEnforcement-Security       0.00      0.00      0.00         8\n",
      "          Manufacturing       0.00      0.00      0.00        15\n",
      "              Marketing       0.00      0.00      0.00        28\n",
      "               Military       0.00      0.00      0.00        15\n",
      "      Museums-Libraries       0.00      0.00      0.00        18\n",
      "             Non-Profit       0.00      0.00      0.00        89\n",
      "             Publishing       0.00      0.00      0.00        45\n",
      "             RealEstate       0.00      0.00      0.00        13\n",
      "               Religion       0.00      0.00      0.00        28\n",
      "                Science       0.00      0.00      0.00        53\n",
      "      Sports-Recreation       0.00      0.00      0.00        17\n",
      "                Student       0.39      0.40      0.40       868\n",
      "             Technology       0.06      0.08      0.07       232\n",
      "     Telecommunications       0.00      0.00      0.00        13\n",
      "                Tourism       0.00      0.00      0.00        13\n",
      "         Transportation       0.00      0.00      0.00        15\n",
      "                 indUnk       0.38      0.43      0.40      1457\n",
      "\n",
      "               accuracy                           0.27      3820\n",
      "              macro avg       0.03      0.03      0.03      3820\n",
      "           weighted avg       0.24      0.27      0.25      3820\n",
      "\n"
     ]
    },
    {
     "name": "stderr",
     "output_type": "stream",
     "text": [
      "C:\\Users\\rgi4\\Anaconda3\\lib\\site-packages\\sklearn\\metrics\\_classification.py:1245: UndefinedMetricWarning: Precision and F-score are ill-defined and being set to 0.0 in labels with no predicted samples. Use `zero_division` parameter to control this behavior.\n",
      "  _warn_prf(average, modifier, msg_start, len(result))\n",
      "C:\\Users\\rgi4\\Anaconda3\\lib\\site-packages\\sklearn\\metrics\\_classification.py:1245: UndefinedMetricWarning: Precision and F-score are ill-defined and being set to 0.0 in labels with no predicted samples. Use `zero_division` parameter to control this behavior.\n",
      "  _warn_prf(average, modifier, msg_start, len(result))\n",
      "C:\\Users\\rgi4\\Anaconda3\\lib\\site-packages\\sklearn\\metrics\\_classification.py:1245: UndefinedMetricWarning: Precision and F-score are ill-defined and being set to 0.0 in labels with no predicted samples. Use `zero_division` parameter to control this behavior.\n",
      "  _warn_prf(average, modifier, msg_start, len(result))\n"
     ]
    }
   ],
   "source": [
    "from sklearn.metrics import classification_report\n",
    "print('\\nClassification Report\\n')\n",
    "print(classification_report(y_test, predicted_labels))"
   ]
  }
 ],
 "metadata": {
  "kernelspec": {
   "display_name": "Python 3",
   "language": "python",
   "name": "python3"
  },
  "language_info": {
   "codemirror_mode": {
    "name": "ipython",
    "version": 3
   },
   "file_extension": ".py",
   "mimetype": "text/x-python",
   "name": "python",
   "nbconvert_exporter": "python",
   "pygments_lexer": "ipython3",
   "version": "3.8.8"
  }
 },
 "nbformat": 4,
 "nbformat_minor": 5
}
